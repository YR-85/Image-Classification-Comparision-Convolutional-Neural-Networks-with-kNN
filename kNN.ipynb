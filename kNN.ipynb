{
  "cells": [
    {
      "cell_type": "markdown",
      "source": [
        "# **Classification with kNN**"
      ],
      "metadata": {
        "id": "ldiEZln0A2nP"
      }
    },
    {
      "cell_type": "markdown",
      "source": [
        "**Import data & train-/val-/testsplit**"
      ],
      "metadata": {
        "id": "iHQfw8715mBw"
      }
    },
    {
      "cell_type": "code",
      "source": [
        "from tensorflow.keras.datasets import fashion_mnist\n",
        "(train_images, train_labels), (test_images, test_labels) = fashion_mnist.load_data()"
      ],
      "metadata": {
        "id": "fZ9uuKuxdOUB",
        "colab": {
          "base_uri": "https://localhost:8080/"
        },
        "outputId": "6a0432ee-32d5-4c67-9415-49487fca3076"
      },
      "execution_count": 1,
      "outputs": [
        {
          "output_type": "stream",
          "name": "stdout",
          "text": [
            "Downloading data from https://storage.googleapis.com/tensorflow/tf-keras-datasets/train-labels-idx1-ubyte.gz\n",
            "\u001b[1m29515/29515\u001b[0m \u001b[32m━━━━━━━━━━━━━━━━━━━━\u001b[0m\u001b[37m\u001b[0m \u001b[1m0s\u001b[0m 0us/step\n",
            "Downloading data from https://storage.googleapis.com/tensorflow/tf-keras-datasets/train-images-idx3-ubyte.gz\n",
            "\u001b[1m26421880/26421880\u001b[0m \u001b[32m━━━━━━━━━━━━━━━━━━━━\u001b[0m\u001b[37m\u001b[0m \u001b[1m0s\u001b[0m 0us/step\n",
            "Downloading data from https://storage.googleapis.com/tensorflow/tf-keras-datasets/t10k-labels-idx1-ubyte.gz\n",
            "\u001b[1m5148/5148\u001b[0m \u001b[32m━━━━━━━━━━━━━━━━━━━━\u001b[0m\u001b[37m\u001b[0m \u001b[1m0s\u001b[0m 1us/step\n",
            "Downloading data from https://storage.googleapis.com/tensorflow/tf-keras-datasets/t10k-images-idx3-ubyte.gz\n",
            "\u001b[1m4422102/4422102\u001b[0m \u001b[32m━━━━━━━━━━━━━━━━━━━━\u001b[0m\u001b[37m\u001b[0m \u001b[1m0s\u001b[0m 0us/step\n"
          ]
        }
      ]
    },
    {
      "cell_type": "code",
      "source": [
        "from sklearn.model_selection import train_test_split\n",
        "import pandas as pd\n",
        "from sklearn.neighbors import KNeighborsClassifier\n",
        "import numpy as np\n",
        "import matplotlib.pyplot as plt\n",
        "\n",
        "train_images = train_images.reshape((60000,784))\n",
        "train_images = train_images.astype(\"float32\")/255\n",
        "test_images = test_images.reshape((10000,784))\n",
        "test_images = test_images.astype(\"float32\")/255\n",
        "\n",
        "test_images, val_images, test_labels, val_labels = train_test_split(test_images,\n",
        "                                                    test_labels,\n",
        "                                                    test_size=0.5,\n",
        "                                                    random_state=42)\n",
        "\n",
        "\n"
      ],
      "metadata": {
        "id": "SVUc6YmLeKG9"
      },
      "execution_count": null,
      "outputs": []
    },
    {
      "cell_type": "markdown",
      "source": [
        "**Classification of validation data for k in [1,50]**"
      ],
      "metadata": {
        "id": "13nZzJxq53Qq"
      }
    },
    {
      "cell_type": "code",
      "execution_count": null,
      "metadata": {
        "id": "LoMdLCsoxtcp"
      },
      "outputs": [],
      "source": [
        "\n",
        "Error_value = []\n",
        "\n",
        "#Fehler berechnen für k in [1,50]\n",
        "for i in range(1, 50):\n",
        "    #Modell definieren\n",
        "    knn = KNeighborsClassifier(n_neighbors=i)\n",
        "    #Training mit Trainingsdaten\n",
        "    knn.fit(train_images, train_labels)\n",
        "    #Prognose für Validierungsdaten\n",
        "    prediction = knn.predict(val_images)\n",
        "    #Fehlerwert in Liste speichern\n",
        "    Error_value.append(np.mean(prediction != val_labels))\n",
        "\n",
        "\n"
      ]
    },
    {
      "cell_type": "markdown",
      "source": [
        "**Plot**"
      ],
      "metadata": {
        "id": "V6q7Tkwr6Jl3"
      }
    },
    {
      "cell_type": "code",
      "execution_count": null,
      "metadata": {
        "colab": {
          "base_uri": "https://localhost:8080/",
          "height": 428
        },
        "id": "KadYi9PvL-Ft",
        "outputId": "cc73db95-2794-466e-e810-a50c84481ff2"
      },
      "outputs": [
        {
          "output_type": "execute_result",
          "data": {
            "text/plain": [
              "Text(0, 0.5, 'Fehlklassifikationsquote')"
            ]
          },
          "metadata": {},
          "execution_count": 27
        },
        {
          "output_type": "display_data",
          "data": {
            "text/plain": [
              "<Figure size 864x432 with 1 Axes>"
            ],
            "image/png": "[encoded data removed]"
          },
          "metadata": {
            "needs_background": "light"
          }
        }
      ],
      "source": [
        "#Plot Fehlklassifikationsquote\n",
        "plt.figure(figsize=(12, 6))\n",
        "plt.plot(range(1, 50), Error_value, color='red', linestyle='dashed', marker='o',\n",
        "         markerfacecolor='blue', markersize=10)\n",
        "plt.title('Fehlklassifikationsquote für verschiedene k', fontsize=16)\n",
        "plt.xlabel('k-Wert', fontsize=16)\n",
        "plt.ylabel('Fehlklassifikationsquote', fontsize=16)"
      ]
    },
    {
      "cell_type": "code",
      "execution_count": null,
      "metadata": {
        "colab": {
          "base_uri": "https://localhost:8080/"
        },
        "id": "0PT5-7MbVS26",
        "outputId": "8ed8d0fe-69e0-47ec-aefe-a85a6ba2c3fc"
      },
      "outputs": [
        {
          "output_type": "stream",
          "name": "stdout",
          "text": [
            "0.144\n"
          ]
        }
      ],
      "source": [
        "print(min(Error_value))"
      ]
    },
    {
      "cell_type": "markdown",
      "source": [
        "**Classification & results**"
      ],
      "metadata": {
        "id": "TDYTNTpQ6lhE"
      }
    },
    {
      "cell_type": "code",
      "source": [
        "knn = KNeighborsClassifier(n_neighbors=3)\n",
        "knn.fit(train_images, train_labels)\n",
        "#do the Predicition\n",
        "prediction = knn.predict(test_images)\n",
        "#save the Error value\n",
        "Error = np.mean(prediction != test_labels)\n",
        "print(Error)"
      ],
      "metadata": {
        "colab": {
          "base_uri": "https://localhost:8080/"
        },
        "id": "qgjl75QD3miI",
        "outputId": "febfce46-3221-4fa6-b617-4bacdaf46167"
      },
      "execution_count": null,
      "outputs": [
        {
          "output_type": "stream",
          "name": "stdout",
          "text": [
            "0.1478\n"
          ]
        }
      ]
    }
  ],
  "metadata": {
    "colab": {
      "provenance": []
    },
    "kernelspec": {
      "display_name": "Python 3",
      "name": "python3"
    },
    "language_info": {
      "name": "python"
    }
  },
  "nbformat": 4,
  "nbformat_minor": 0
}